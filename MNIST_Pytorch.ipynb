{
 "cells": [
  {
   "cell_type": "code",
   "execution_count": 1,
   "id": "e97a2013",
   "metadata": {},
   "outputs": [],
   "source": [
    "import torch\n",
    "import torch.nn as nn\n",
    "import torchvision\n",
    "import torchvision.transforms as transforms\n",
    "import matplotlib.pyplot as plt"
   ]
  },
  {
   "cell_type": "code",
   "execution_count": 2,
   "id": "4f908911",
   "metadata": {},
   "outputs": [],
   "source": [
    "device = torch.device('cuda' if torch.cuda.is_available() else 'cpu')"
   ]
  },
  {
   "cell_type": "code",
   "execution_count": 3,
   "id": "f2a69902",
   "metadata": {},
   "outputs": [
    {
     "data": {
      "text/plain": [
       "device(type='cpu')"
      ]
     },
     "execution_count": 3,
     "metadata": {},
     "output_type": "execute_result"
    }
   ],
   "source": [
    "device"
   ]
  },
  {
   "cell_type": "code",
   "execution_count": 4,
   "id": "63106e3c",
   "metadata": {},
   "outputs": [],
   "source": [
    "input_size = 784\n",
    "hidden_size = 100\n",
    "num_classes = 10\n",
    "num_epochs = 20\n",
    "batch_size = 100\n",
    "learning_rate = 0.001"
   ]
  },
  {
   "cell_type": "code",
   "execution_count": 5,
   "id": "aad604a5",
   "metadata": {},
   "outputs": [],
   "source": [
    "train_dataset = torchvision.datasets.MNIST(root='data',train = True,\n",
    "                                          transform = transforms.ToTensor(),\n",
    "                                          download = True)"
   ]
  },
  {
   "cell_type": "code",
   "execution_count": 6,
   "id": "e34c1fa5",
   "metadata": {},
   "outputs": [],
   "source": [
    "test_dataset = torchvision.datasets.MNIST(root='data',train=False,\n",
    "                                         transform = transforms.ToTensor(),\n",
    "                                         download = True)"
   ]
  },
  {
   "cell_type": "code",
   "execution_count": 7,
   "id": "b97e21f5",
   "metadata": {},
   "outputs": [
    {
     "data": {
      "text/plain": [
       "Dataset MNIST\n",
       "    Number of datapoints: 60000\n",
       "    Root location: data\n",
       "    Split: Train\n",
       "    StandardTransform\n",
       "Transform: ToTensor()"
      ]
     },
     "execution_count": 7,
     "metadata": {},
     "output_type": "execute_result"
    }
   ],
   "source": [
    "train_dataset"
   ]
  },
  {
   "cell_type": "code",
   "execution_count": 8,
   "id": "80c16e41",
   "metadata": {},
   "outputs": [
    {
     "data": {
      "text/plain": [
       "Dataset MNIST\n",
       "    Number of datapoints: 10000\n",
       "    Root location: data\n",
       "    Split: Test\n",
       "    StandardTransform\n",
       "Transform: ToTensor()"
      ]
     },
     "execution_count": 8,
     "metadata": {},
     "output_type": "execute_result"
    }
   ],
   "source": [
    "test_dataset"
   ]
  },
  {
   "cell_type": "code",
   "execution_count": 9,
   "id": "d8b8a1b7",
   "metadata": {},
   "outputs": [],
   "source": [
    "train_loader = torch.utils.data.DataLoader(dataset = train_dataset,\n",
    "                                          batch_size = batch_size,\n",
    "                                          shuffle= True)"
   ]
  },
  {
   "cell_type": "code",
   "execution_count": 10,
   "id": "9daeed29",
   "metadata": {},
   "outputs": [],
   "source": [
    "test_loader = torch.utils.data.DataLoader(dataset = test_dataset,\n",
    "                                         batch_size = batch_size,\n",
    "                                         shuffle = False)"
   ]
  },
  {
   "cell_type": "code",
   "execution_count": 11,
   "id": "aa34202a",
   "metadata": {},
   "outputs": [],
   "source": [
    "examples = iter(train_loader)"
   ]
  },
  {
   "cell_type": "code",
   "execution_count": 12,
   "id": "bd60874d",
   "metadata": {},
   "outputs": [],
   "source": [
    "samples ,labels = examples.next()"
   ]
  },
  {
   "cell_type": "code",
   "execution_count": 13,
   "id": "b50c5942",
   "metadata": {},
   "outputs": [
    {
     "data": {
      "text/plain": [
       "torch.Size([100, 1, 28, 28])"
      ]
     },
     "execution_count": 13,
     "metadata": {},
     "output_type": "execute_result"
    }
   ],
   "source": [
    "samples.shape"
   ]
  },
  {
   "cell_type": "code",
   "execution_count": 14,
   "id": "4325fe75",
   "metadata": {},
   "outputs": [
    {
     "data": {
      "text/plain": [
       "torch.Size([100])"
      ]
     },
     "execution_count": 14,
     "metadata": {},
     "output_type": "execute_result"
    }
   ],
   "source": [
    "labels.shape"
   ]
  },
  {
   "cell_type": "code",
   "execution_count": 15,
   "id": "c5ee24c5",
   "metadata": {},
   "outputs": [
    {
     "data": {
      "image/png": "[encoded data removed]",
      "text/plain": [
       "<Figure size 432x288 with 6 Axes>"
      ]
     },
     "metadata": {},
     "output_type": "display_data"
    }
   ],
   "source": [
    "import matplotlib.pyplot as plt\n",
    "import seaborn as sns\n",
    "sns.set_style('whitegrid')\n",
    "for i in range(6):\n",
    "    plt.subplot(2,3,i+1)\n",
    "    plt.xticks([])\n",
    "    plt.yticks([])\n",
    "    plt.grid(False)\n",
    "    plt.imshow(samples[i][0],cmap='gray_r')\n",
    "plt.show()"
   ]
  },
  {
   "cell_type": "code",
   "execution_count": 16,
   "id": "df75182a",
   "metadata": {},
   "outputs": [],
   "source": [
    "class NeuralNet(nn.Module):\n",
    "    def __init__(self,input_size,hidden_size,num_classes):\n",
    "        super(NeuralNet,self).__init__()\n",
    "        self.l1 = nn.Linear(input_size,hidden_size)\n",
    "        self.relu = nn.ReLU()\n",
    "        self.l2 = nn.Linear(hidden_size,num_classes)\n",
    "    def forward(self,x):\n",
    "        out = self.l1(x)\n",
    "        out = self.relu(out)\n",
    "        out = self.l2(out)\n",
    "        return out"
   ]
  },
  {
   "cell_type": "code",
   "execution_count": 17,
   "id": "7c123a20",
   "metadata": {},
   "outputs": [],
   "source": [
    "model = NeuralNet(input_size,hidden_size,num_classes).to(device)"
   ]
  },
  {
   "cell_type": "code",
   "execution_count": 18,
   "id": "d1557278",
   "metadata": {},
   "outputs": [
    {
     "name": "stdout",
     "output_type": "stream",
     "text": [
      "NeuralNet(\n",
      "  (l1): Linear(in_features=784, out_features=100, bias=True)\n",
      "  (relu): ReLU()\n",
      "  (l2): Linear(in_features=100, out_features=10, bias=True)\n",
      ")\n"
     ]
    }
   ],
   "source": [
    "print(model)"
   ]
  },
  {
   "cell_type": "code",
   "execution_count": 19,
   "id": "d6ea7e63",
   "metadata": {},
   "outputs": [],
   "source": [
    "#loss func^ & optimizer\n",
    "criterion = nn.CrossEntropyLoss()\n",
    "optimizer = torch.optim.Adam(model.parameters(),lr=learning_rate)"
   ]
  },
  {
   "cell_type": "code",
   "execution_count": 20,
   "id": "9e5cba7a",
   "metadata": {},
   "outputs": [
    {
     "name": "stdout",
     "output_type": "stream",
     "text": [
      "epoch 1/20, step 100/600,loss = 0.5923\n",
      "epoch 1/20, step 200/600,loss = 0.3614\n",
      "epoch 1/20, step 300/600,loss = 0.2340\n",
      "epoch 1/20, step 400/600,loss = 0.2904\n",
      "epoch 1/20, step 500/600,loss = 0.2286\n",
      "epoch 1/20, step 600/600,loss = 0.2238\n",
      "epoch 2/20, step 100/600,loss = 0.1939\n",
      "epoch 2/20, step 200/600,loss = 0.1948\n",
      "epoch 2/20, step 300/600,loss = 0.1750\n",
      "epoch 2/20, step 400/600,loss = 0.2894\n",
      "epoch 2/20, step 500/600,loss = 0.2624\n",
      "epoch 2/20, step 600/600,loss = 0.2862\n",
      "epoch 3/20, step 100/600,loss = 0.1752\n",
      "epoch 3/20, step 200/600,loss = 0.1257\n",
      "epoch 3/20, step 300/600,loss = 0.1225\n",
      "epoch 3/20, step 400/600,loss = 0.2663\n",
      "epoch 3/20, step 500/600,loss = 0.0939\n",
      "epoch 3/20, step 600/600,loss = 0.0899\n",
      "epoch 4/20, step 100/600,loss = 0.1079\n",
      "epoch 4/20, step 200/600,loss = 0.1177\n",
      "epoch 4/20, step 300/600,loss = 0.0537\n",
      "epoch 4/20, step 400/600,loss = 0.0710\n",
      "epoch 4/20, step 500/600,loss = 0.0420\n",
      "epoch 4/20, step 600/600,loss = 0.0357\n",
      "epoch 5/20, step 100/600,loss = 0.0920\n",
      "epoch 5/20, step 200/600,loss = 0.1328\n",
      "epoch 5/20, step 300/600,loss = 0.0433\n",
      "epoch 5/20, step 400/600,loss = 0.0855\n",
      "epoch 5/20, step 500/600,loss = 0.0738\n",
      "epoch 5/20, step 600/600,loss = 0.1374\n",
      "epoch 6/20, step 100/600,loss = 0.0423\n",
      "epoch 6/20, step 200/600,loss = 0.0308\n",
      "epoch 6/20, step 300/600,loss = 0.0255\n",
      "epoch 6/20, step 400/600,loss = 0.0852\n",
      "epoch 6/20, step 500/600,loss = 0.0361\n",
      "epoch 6/20, step 600/600,loss = 0.0725\n",
      "epoch 7/20, step 100/600,loss = 0.1092\n",
      "epoch 7/20, step 200/600,loss = 0.0531\n",
      "epoch 7/20, step 300/600,loss = 0.0910\n",
      "epoch 7/20, step 400/600,loss = 0.0354\n",
      "epoch 7/20, step 500/600,loss = 0.1026\n",
      "epoch 7/20, step 600/600,loss = 0.0591\n",
      "epoch 8/20, step 100/600,loss = 0.0461\n",
      "epoch 8/20, step 200/600,loss = 0.0728\n",
      "epoch 8/20, step 300/600,loss = 0.0387\n",
      "epoch 8/20, step 400/600,loss = 0.0131\n",
      "epoch 8/20, step 500/600,loss = 0.0447\n",
      "epoch 8/20, step 600/600,loss = 0.0406\n",
      "epoch 9/20, step 100/600,loss = 0.0693\n",
      "epoch 9/20, step 200/600,loss = 0.0162\n",
      "epoch 9/20, step 300/600,loss = 0.0293\n",
      "epoch 9/20, step 400/600,loss = 0.0461\n",
      "epoch 9/20, step 500/600,loss = 0.0175\n",
      "epoch 9/20, step 600/600,loss = 0.0344\n",
      "epoch 10/20, step 100/600,loss = 0.0289\n",
      "epoch 10/20, step 200/600,loss = 0.0205\n",
      "epoch 10/20, step 300/600,loss = 0.0594\n",
      "epoch 10/20, step 400/600,loss = 0.0789\n",
      "epoch 10/20, step 500/600,loss = 0.0538\n",
      "epoch 10/20, step 600/600,loss = 0.0543\n",
      "epoch 11/20, step 100/600,loss = 0.0206\n",
      "epoch 11/20, step 200/600,loss = 0.0112\n",
      "epoch 11/20, step 300/600,loss = 0.0103\n",
      "epoch 11/20, step 400/600,loss = 0.0330\n",
      "epoch 11/20, step 500/600,loss = 0.0235\n",
      "epoch 11/20, step 600/600,loss = 0.0123\n",
      "epoch 12/20, step 100/600,loss = 0.0217\n",
      "epoch 12/20, step 200/600,loss = 0.0129\n",
      "epoch 12/20, step 300/600,loss = 0.0198\n",
      "epoch 12/20, step 400/600,loss = 0.0230\n",
      "epoch 12/20, step 500/600,loss = 0.0485\n",
      "epoch 12/20, step 600/600,loss = 0.0101\n",
      "epoch 13/20, step 100/600,loss = 0.0242\n",
      "epoch 13/20, step 200/600,loss = 0.0349\n",
      "epoch 13/20, step 300/600,loss = 0.0243\n",
      "epoch 13/20, step 400/600,loss = 0.0176\n",
      "epoch 13/20, step 500/600,loss = 0.0466\n",
      "epoch 13/20, step 600/600,loss = 0.0331\n",
      "epoch 14/20, step 100/600,loss = 0.0212\n",
      "epoch 14/20, step 200/600,loss = 0.0306\n",
      "epoch 14/20, step 300/600,loss = 0.0230\n",
      "epoch 14/20, step 400/600,loss = 0.0098\n",
      "epoch 14/20, step 500/600,loss = 0.0250\n",
      "epoch 14/20, step 600/600,loss = 0.0032\n",
      "epoch 15/20, step 100/600,loss = 0.0059\n",
      "epoch 15/20, step 200/600,loss = 0.0121\n",
      "epoch 15/20, step 300/600,loss = 0.0313\n",
      "epoch 15/20, step 400/600,loss = 0.0193\n",
      "epoch 15/20, step 500/600,loss = 0.0161\n",
      "epoch 15/20, step 600/600,loss = 0.0165\n",
      "epoch 16/20, step 100/600,loss = 0.0119\n",
      "epoch 16/20, step 200/600,loss = 0.0026\n",
      "epoch 16/20, step 300/600,loss = 0.0041\n",
      "epoch 16/20, step 400/600,loss = 0.0063\n",
      "epoch 16/20, step 500/600,loss = 0.0150\n",
      "epoch 16/20, step 600/600,loss = 0.0133\n",
      "epoch 17/20, step 100/600,loss = 0.0120\n",
      "epoch 17/20, step 200/600,loss = 0.0220\n",
      "epoch 17/20, step 300/600,loss = 0.0873\n",
      "epoch 17/20, step 400/600,loss = 0.0067\n",
      "epoch 17/20, step 500/600,loss = 0.0216\n",
      "epoch 17/20, step 600/600,loss = 0.0334\n",
      "epoch 18/20, step 100/600,loss = 0.0118\n",
      "epoch 18/20, step 200/600,loss = 0.0086\n",
      "epoch 18/20, step 300/600,loss = 0.0127\n",
      "epoch 18/20, step 400/600,loss = 0.0131\n",
      "epoch 18/20, step 500/600,loss = 0.0068\n",
      "epoch 18/20, step 600/600,loss = 0.0253\n",
      "epoch 19/20, step 100/600,loss = 0.0081\n",
      "epoch 19/20, step 200/600,loss = 0.0070\n",
      "epoch 19/20, step 300/600,loss = 0.0154\n",
      "epoch 19/20, step 400/600,loss = 0.0164\n",
      "epoch 19/20, step 500/600,loss = 0.0064\n",
      "epoch 19/20, step 600/600,loss = 0.0340\n",
      "epoch 20/20, step 100/600,loss = 0.0045\n",
      "epoch 20/20, step 200/600,loss = 0.0080\n",
      "epoch 20/20, step 300/600,loss = 0.0112\n",
      "epoch 20/20, step 400/600,loss = 0.0194\n",
      "epoch 20/20, step 500/600,loss = 0.0038\n",
      "epoch 20/20, step 600/600,loss = 0.0064\n"
     ]
    }
   ],
   "source": [
    "#training loop\n",
    "n_total_steps = len(train_loader)\n",
    "for epoch in range(num_epochs):\n",
    "    for i, (images,labels) in enumerate(train_loader):\n",
    "        images = images.reshape(-1,28*28).to(device)\n",
    "        labels = labels.to(device)\n",
    "        #forward pass\n",
    "        outputs = model(images)\n",
    "        loss = criterion(outputs,labels)\n",
    "        #backward pass\n",
    "        optimizer.zero_grad()\n",
    "        loss.backward()\n",
    "        optimizer.step()\n",
    "        if (i+1) % 100 == 0:\n",
    "            print(f'epoch {epoch+1}/{num_epochs}, step {i+1}/{n_total_steps},loss = {loss.item():.4f}')"
   ]
  },
  {
   "cell_type": "code",
   "execution_count": 21,
   "id": "b829a0f8",
   "metadata": {},
   "outputs": [],
   "source": [
    "# testing"
   ]
  },
  {
   "cell_type": "code",
   "execution_count": 22,
   "id": "1543d20d",
   "metadata": {},
   "outputs": [
    {
     "name": "stdout",
     "output_type": "stream",
     "text": [
      "accuracy = 100.0\n"
     ]
    }
   ],
   "source": [
    "with torch.no_grad():\n",
    "    n_correct = 0\n",
    "    n_samples = 0\n",
    "    for images, labels in test_loader:\n",
    "        images = images.reshape(-1,28*28).to(device)\n",
    "        labels = labels.to(device)\n",
    "        outputs = model(images)\n",
    "    _, predictions = torch.max(outputs,1)\n",
    "    n_samples += labels.shape[0]\n",
    "    n_correct += (predictions ==  labels).sum().item()\n",
    "    acc = 100.0 * n_correct/n_samples\n",
    "    print(f\"accuracy = {acc}\")"
   ]
  },
  {
   "cell_type": "code",
   "execution_count": 23,
   "id": "ba43c31d",
   "metadata": {},
   "outputs": [
    {
     "data": {
      "text/plain": [
       "100"
      ]
     },
     "execution_count": 23,
     "metadata": {},
     "output_type": "execute_result"
    }
   ],
   "source": [
    "n_samples"
   ]
  },
  {
   "cell_type": "code",
   "execution_count": 24,
   "id": "c499d94c",
   "metadata": {},
   "outputs": [
    {
     "data": {
      "text/plain": [
       "100"
      ]
     },
     "execution_count": 24,
     "metadata": {},
     "output_type": "execute_result"
    }
   ],
   "source": [
    "n_correct"
   ]
  },
  {
   "cell_type": "code",
   "execution_count": null,
   "id": "b45b2217",
   "metadata": {},
   "outputs": [],
   "source": []
  }
 ],
 "metadata": {
  "kernelspec": {
   "display_name": "Python 3",
   "language": "python",
   "name": "python3"
  },
  "language_info": {
   "codemirror_mode": {
    "name": "ipython",
    "version": 3
   },
   "file_extension": ".py",
   "mimetype": "text/x-python",
   "name": "python",
   "nbconvert_exporter": "python",
   "pygments_lexer": "ipython3",
   "version": "3.6.13"
  }
 },
 "nbformat": 4,
 "nbformat_minor": 5
}
