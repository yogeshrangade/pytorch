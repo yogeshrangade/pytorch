{
 "cells": [
  {
   "cell_type": "code",
   "execution_count": 1,
   "id": "7705c1bc",
   "metadata": {},
   "outputs": [],
   "source": [
    "import torch\n",
    "import torch.nn as nn\n",
    "import torch.nn.functional as F\n",
    "import torchvision\n",
    "import torchvision.transforms as transforms\n",
    "import matplotlib.pyplot as plt\n",
    "import numpy as np"
   ]
  },
  {
   "cell_type": "code",
   "execution_count": 2,
   "id": "8c2b548a",
   "metadata": {},
   "outputs": [],
   "source": [
    "#hpyerparameters\n",
    "num_epochs = 10\n",
    "batch_size = 4\n",
    "learning_rate =0.01"
   ]
  },
  {
   "cell_type": "code",
   "execution_count": 3,
   "id": "f7cdeaab",
   "metadata": {},
   "outputs": [],
   "source": [
    "transform = transforms.Compose(\n",
    "[transforms.ToTensor(),\n",
    "transforms.Normalize((0.5,0.5,0.5),(0.5,0.5,0.5))])"
   ]
  },
  {
   "cell_type": "code",
   "execution_count": 4,
   "id": "a71b2faa",
   "metadata": {},
   "outputs": [
    {
     "name": "stdout",
     "output_type": "stream",
     "text": [
      "Downloading https://www.cs.toronto.edu/~kriz/cifar-10-python.tar.gz to data\\cifar-10-python.tar.gz\n"
     ]
    },
    {
     "data": {
      "application/vnd.jupyter.widget-view+json": {
       "model_id": "95aa37a882a542c69ad8f1400f600586",
       "version_major": 2,
       "version_minor": 0
      },
      "text/plain": [
       "  0%|          | 0/170498071 [00:00<?, ?it/s]"
      ]
     },
     "metadata": {},
     "output_type": "display_data"
    },
    {
     "name": "stdout",
     "output_type": "stream",
     "text": [
      "Extracting data\\cifar-10-python.tar.gz to data\n"
     ]
    }
   ],
   "source": [
    "train_dataset = torchvision.datasets.CIFAR10(root='data',\n",
    "                                            train=True,\n",
    "                                            download=True,\n",
    "                                            transform=transform)"
   ]
  },
  {
   "cell_type": "code",
   "execution_count": 5,
   "id": "edf27138",
   "metadata": {},
   "outputs": [
    {
     "name": "stdout",
     "output_type": "stream",
     "text": [
      "Files already downloaded and verified\n"
     ]
    }
   ],
   "source": [
    "test_dataset = torchvision.datasets.CIFAR10(root='data',\n",
    "                                            train=False,\n",
    "                                            download=True,\n",
    "                                            transform=transform)"
   ]
  },
  {
   "cell_type": "code",
   "execution_count": 6,
   "id": "28da6b0d",
   "metadata": {},
   "outputs": [
    {
     "data": {
      "text/plain": [
       "Dataset CIFAR10\n",
       "    Number of datapoints: 50000\n",
       "    Root location: data\n",
       "    Split: Train\n",
       "    StandardTransform\n",
       "Transform: Compose(\n",
       "               ToTensor()\n",
       "               Normalize(mean=(0.5, 0.5, 0.5), std=(0.5, 0.5, 0.5))\n",
       "           )"
      ]
     },
     "execution_count": 6,
     "metadata": {},
     "output_type": "execute_result"
    }
   ],
   "source": [
    "train_dataset"
   ]
  },
  {
   "cell_type": "code",
   "execution_count": 7,
   "id": "65499ef3",
   "metadata": {},
   "outputs": [],
   "source": [
    "train_loader = torch.utils.data.DataLoader(dataset=train_dataset,\n",
    "                                          batch_size=batch_size,\n",
    "                                          shuffle=True)"
   ]
  },
  {
   "cell_type": "code",
   "execution_count": 8,
   "id": "c7f4e6c9",
   "metadata": {},
   "outputs": [
    {
     "data": {
      "text/plain": [
       "torch.Size([4, 3, 32, 32])"
      ]
     },
     "execution_count": 8,
     "metadata": {},
     "output_type": "execute_result"
    }
   ],
   "source": [
    "examples = iter(train_loader)\n",
    "samples ,labels = examples.next()\n",
    "samples.shape"
   ]
  },
  {
   "cell_type": "code",
   "execution_count": 9,
   "id": "ed2256c3",
   "metadata": {},
   "outputs": [],
   "source": [
    "test_loader = torch.utils.data.DataLoader(dataset=test_dataset,\n",
    "                                         batch_size = batch_size,\n",
    "                                         shuffle = False)"
   ]
  },
  {
   "cell_type": "code",
   "execution_count": 10,
   "id": "44cb2445",
   "metadata": {},
   "outputs": [],
   "source": [
    "classes = ('plane','car','bird','cat','deer','dog','frog','horse','ship','truck')"
   ]
  },
  {
   "cell_type": "code",
   "execution_count": 11,
   "id": "bbb953e4",
   "metadata": {},
   "outputs": [
    {
     "data": {
      "text/plain": [
       "('plane',\n",
       " 'car',\n",
       " 'bird',\n",
       " 'cat',\n",
       " 'deer',\n",
       " 'dog',\n",
       " 'frog',\n",
       " 'horse',\n",
       " 'ship',\n",
       " 'truck')"
      ]
     },
     "execution_count": 11,
     "metadata": {},
     "output_type": "execute_result"
    }
   ],
   "source": [
    "classes"
   ]
  },
  {
   "cell_type": "code",
   "execution_count": 12,
   "id": "004d7ca0",
   "metadata": {},
   "outputs": [],
   "source": [
    "class ConvNet(nn.Module):\n",
    "    def __init__(self):\n",
    "        super(ConvNet,self).__init__()\n",
    "        self.conv1 = nn.Conv2d(3,6,5)\n",
    "        self.pool = nn.MaxPool2d(2,2)\n",
    "        self.conv2 = nn.Conv2d(6,16,5)\n",
    "        self.fc1 = nn.Linear(16*5*5,120)\n",
    "        self.fc2 = nn.Linear(120,84)\n",
    "        self.fc3 = nn.Linear(84,10)\n",
    "    def forward(self,x):\n",
    "        x = self.pool(F.relu(self.conv1(x)))\n",
    "        x = self.pool(F.relu(self.conv2(x)))\n",
    "        x = x.view(-1,16*5*5)\n",
    "        x = F.relu(self.fc1(x))\n",
    "        x = F.relu(self.fc2(x))\n",
    "        x = self.fc3(x)\n",
    "        return x"
   ]
  },
  {
   "cell_type": "code",
   "execution_count": 15,
   "id": "90478608",
   "metadata": {},
   "outputs": [],
   "source": [
    "device = torch.device('cuda' if torch.cuda.is_available() else 'cpu')"
   ]
  },
  {
   "cell_type": "code",
   "execution_count": 16,
   "id": "c6ef26cc",
   "metadata": {},
   "outputs": [
    {
     "data": {
      "text/plain": [
       "device(type='cpu')"
      ]
     },
     "execution_count": 16,
     "metadata": {},
     "output_type": "execute_result"
    }
   ],
   "source": [
    "device"
   ]
  },
  {
   "cell_type": "code",
   "execution_count": 17,
   "id": "2cd7f0ba",
   "metadata": {},
   "outputs": [],
   "source": [
    "model = ConvNet().to(device)"
   ]
  },
  {
   "cell_type": "code",
   "execution_count": 18,
   "id": "6ab5d86f",
   "metadata": {},
   "outputs": [
    {
     "data": {
      "text/plain": [
       "ConvNet(\n",
       "  (conv1): Conv2d(3, 6, kernel_size=(5, 5), stride=(1, 1))\n",
       "  (pool): MaxPool2d(kernel_size=2, stride=2, padding=0, dilation=1, ceil_mode=False)\n",
       "  (conv2): Conv2d(6, 16, kernel_size=(5, 5), stride=(1, 1))\n",
       "  (fc1): Linear(in_features=400, out_features=120, bias=True)\n",
       "  (fc2): Linear(in_features=120, out_features=84, bias=True)\n",
       "  (fc3): Linear(in_features=84, out_features=10, bias=True)\n",
       ")"
      ]
     },
     "execution_count": 18,
     "metadata": {},
     "output_type": "execute_result"
    }
   ],
   "source": [
    "model"
   ]
  },
  {
   "cell_type": "code",
   "execution_count": 19,
   "id": "c543fdf8",
   "metadata": {},
   "outputs": [],
   "source": [
    "criterion = nn.CrossEntropyLoss()\n",
    "optimizer = torch.optim.Adam(model.parameters(),lr=learning_rate)"
   ]
  },
  {
   "cell_type": "code",
   "execution_count": 20,
   "id": "a6e2c863",
   "metadata": {},
   "outputs": [
    {
     "name": "stdout",
     "output_type": "stream",
     "text": [
      "Epoch [1/10],step [2000/12500],loss: 2.3573\n",
      "Epoch [1/10],step [4000/12500],loss: 2.3300\n",
      "Epoch [1/10],step [6000/12500],loss: 2.2923\n",
      "Epoch [1/10],step [8000/12500],loss: 2.3120\n",
      "Epoch [1/10],step [10000/12500],loss: 2.3377\n",
      "Epoch [1/10],step [12000/12500],loss: 2.2644\n",
      "Epoch [2/10],step [2000/12500],loss: 2.3526\n",
      "Epoch [2/10],step [4000/12500],loss: 2.2868\n",
      "Epoch [2/10],step [6000/12500],loss: 2.2290\n",
      "Epoch [2/10],step [8000/12500],loss: 2.3447\n",
      "Epoch [2/10],step [10000/12500],loss: 2.2381\n",
      "Epoch [2/10],step [12000/12500],loss: 2.2630\n",
      "Epoch [3/10],step [2000/12500],loss: 2.2887\n",
      "Epoch [3/10],step [4000/12500],loss: 2.2717\n",
      "Epoch [3/10],step [6000/12500],loss: 2.2755\n",
      "Epoch [3/10],step [8000/12500],loss: 2.3151\n",
      "Epoch [3/10],step [10000/12500],loss: 2.3638\n",
      "Epoch [3/10],step [12000/12500],loss: 2.2750\n",
      "Epoch [4/10],step [2000/12500],loss: 2.2637\n",
      "Epoch [4/10],step [4000/12500],loss: 2.3029\n",
      "Epoch [4/10],step [6000/12500],loss: 2.2884\n",
      "Epoch [4/10],step [8000/12500],loss: 2.2644\n",
      "Epoch [4/10],step [10000/12500],loss: 2.2808\n",
      "Epoch [4/10],step [12000/12500],loss: 2.2777\n",
      "Epoch [5/10],step [2000/12500],loss: 2.2707\n",
      "Epoch [5/10],step [4000/12500],loss: 2.2702\n",
      "Epoch [5/10],step [6000/12500],loss: 2.3247\n",
      "Epoch [5/10],step [8000/12500],loss: 2.2798\n",
      "Epoch [5/10],step [10000/12500],loss: 2.3577\n",
      "Epoch [5/10],step [12000/12500],loss: 2.2997\n",
      "Epoch [6/10],step [2000/12500],loss: 2.3140\n",
      "Epoch [6/10],step [4000/12500],loss: 2.3393\n",
      "Epoch [6/10],step [6000/12500],loss: 2.2206\n",
      "Epoch [6/10],step [8000/12500],loss: 2.2621\n",
      "Epoch [6/10],step [10000/12500],loss: 2.3078\n",
      "Epoch [6/10],step [12000/12500],loss: 2.3387\n",
      "Epoch [7/10],step [2000/12500],loss: 2.2950\n",
      "Epoch [7/10],step [4000/12500],loss: 2.2871\n",
      "Epoch [7/10],step [6000/12500],loss: 2.2833\n",
      "Epoch [7/10],step [8000/12500],loss: 2.3048\n",
      "Epoch [7/10],step [10000/12500],loss: 2.2610\n",
      "Epoch [7/10],step [12000/12500],loss: 2.2410\n",
      "Epoch [8/10],step [2000/12500],loss: 2.3252\n",
      "Epoch [8/10],step [4000/12500],loss: 2.3524\n",
      "Epoch [8/10],step [6000/12500],loss: 2.2462\n",
      "Epoch [8/10],step [8000/12500],loss: 2.3896\n",
      "Epoch [8/10],step [10000/12500],loss: 2.3421\n",
      "Epoch [8/10],step [12000/12500],loss: 2.3374\n",
      "Epoch [9/10],step [2000/12500],loss: 2.3173\n",
      "Epoch [9/10],step [4000/12500],loss: 2.2332\n",
      "Epoch [9/10],step [6000/12500],loss: 2.3514\n",
      "Epoch [9/10],step [8000/12500],loss: 2.2873\n",
      "Epoch [9/10],step [10000/12500],loss: 2.1894\n",
      "Epoch [9/10],step [12000/12500],loss: 2.3113\n",
      "Epoch [10/10],step [2000/12500],loss: 2.3245\n",
      "Epoch [10/10],step [4000/12500],loss: 2.3246\n",
      "Epoch [10/10],step [6000/12500],loss: 2.3341\n",
      "Epoch [10/10],step [8000/12500],loss: 2.2208\n",
      "Epoch [10/10],step [10000/12500],loss: 2.2340\n",
      "Epoch [10/10],step [12000/12500],loss: 2.3446\n",
      "Finished Traing\n"
     ]
    }
   ],
   "source": [
    "n_total_steps = len(train_loader)\n",
    "for epoch in range(num_epochs):\n",
    "    for i, (images,labels) in enumerate(train_loader):\n",
    "        images = images.to(device)\n",
    "        labels = labels.to(device)\n",
    "        #forward\n",
    "        outputs = model(images)\n",
    "        loss = criterion(outputs,labels)\n",
    "        #backword\n",
    "        optimizer.zero_grad()\n",
    "        loss.backward()\n",
    "        optimizer.step()\n",
    "        if (i+1) % 2000 == 0:\n",
    "            print(f'Epoch [{epoch+1}/{num_epochs}],step [{i+1}/{n_total_steps}],loss: {loss.item():.4f}')\n",
    "print(\"Finished Traing\")"
   ]
  },
  {
   "cell_type": "code",
   "execution_count": 21,
   "id": "7b1a743f",
   "metadata": {},
   "outputs": [
    {
     "name": "stdout",
     "output_type": "stream",
     "text": [
      "accuracy: 10.0%\n",
      "accuracy of plane:0.0%\n",
      "accuracy of car:0.0%\n",
      "accuracy of bird:0.0%\n",
      "accuracy of cat:0.0%\n",
      "accuracy of deer:100.0%\n",
      "accuracy of dog:0.0%\n",
      "accuracy of frog:0.0%\n",
      "accuracy of horse:0.0%\n",
      "accuracy of ship:0.0%\n",
      "accuracy of truck:0.0%\n"
     ]
    }
   ],
   "source": [
    "with torch.no_grad():\n",
    "    n_correct = 0\n",
    "    n_samples = 0\n",
    "    n_class_correct = [0 for i in range(10)]\n",
    "    n_class_samples = [0 for i in range(10)]\n",
    "    for images,labels in test_loader:\n",
    "        images = images.to(device)\n",
    "        labels = labels.to(device)\n",
    "        outputs = model(images)\n",
    "        _,predicted = torch.max(outputs,1)\n",
    "        n_samples += labels.size(0)\n",
    "        n_correct += (predicted==labels).sum().item()\n",
    "        for i in range(batch_size):\n",
    "            label = labels[i]\n",
    "            pred = predicted[i]\n",
    "            if (label==pred):\n",
    "                n_class_correct[label] +=1\n",
    "            n_class_samples[label]+=1\n",
    "    acc = 100.0 * n_correct/n_samples\n",
    "    print(f'accuracy: {acc}%')\n",
    "    for i in range(10):\n",
    "        acc =100.0 *n_class_correct[i]/n_class_samples[i]\n",
    "        print(f'accuracy of {classes[i]}:{acc}%')"
   ]
  },
  {
   "cell_type": "code",
   "execution_count": 22,
   "id": "55aedfd8",
   "metadata": {},
   "outputs": [
    {
     "data": {
      "text/plain": [
       "4"
      ]
     },
     "execution_count": 22,
     "metadata": {},
     "output_type": "execute_result"
    }
   ],
   "source": [
    "batch_size\n",
    "4"
   ]
  },
  {
   "cell_type": "code",
   "execution_count": null,
   "id": "bde43c3a",
   "metadata": {},
   "outputs": [],
   "source": []
  }
 ],
 "metadata": {
  "kernelspec": {
   "display_name": "Python 3",
   "language": "python",
   "name": "python3"
  },
  "language_info": {
   "codemirror_mode": {
    "name": "ipython",
    "version": 3
   },
   "file_extension": ".py",
   "mimetype": "text/x-python",
   "name": "python",
   "nbconvert_exporter": "python",
   "pygments_lexer": "ipython3",
   "version": "3.6.13"
  }
 },
 "nbformat": 4,
 "nbformat_minor": 5
}
